{
 "cells": [
  {
   "cell_type": "markdown",
   "id": "1498881c",
   "metadata": {},
   "source": [
    "# Read me\n",
    "Gamma calibration of TOFu system using Na-22 source.\n",
    "\n",
    "## Introduction\n",
    "Data is taken using a Na-22 source which decays through either electron capture emitting a 1275 keV gamma or through positron emission resulting in the emission of 511 keV gammas when the positron annihilates. The Compton edges of the gamma spectrum can be used to calibrate the TOFOR detectors. The goal of these scripts is to find a offset ($O$) and a multiplier ($M$) to translate the acquired pulse waveform areas ($A$) to the corresponding light yield produced in each TOFOR sub-detector such that \n",
    "$$ E_\\text{ly} = O + M\\cdot A. $$ \n",
    "This is achieved by fitting a simulated Na-22 spectrum in MCNP to the data. The Na-22 gamma spectra acquired by TOFu are stored in data/raw_data/ and the MCNP model and output is stored in the MCNP/ directory.\n",
    "\n",
    "## Scripts/files\n",
    "Below follows a short description of the different scripts.\n",
    "\n",
    "#### calculate_pulse_areas.py\n",
    "Calculate the pulse areas from the raw pulse waveform data in data/raw_data/ and bins the \"area-spectrum\". Output is stored in data/pulse_areas/.\n",
    "\n",
    "#### compton_fit.xlsx\n",
    "Use to get an approximate first guess on the fitting parameters. Pulse areas go under the sheet called ExpData, the modelled MCNP Na-22 spectrum goes under MCNPDATA.\n",
    "\n",
    "#### save_starting_guess.py\n",
    "Save the starting guess parameters to text files in initial_guesses/parameters/.\n",
    "\n",
    "#### compont.py\n",
    "Perform the fitting procedure using starting guesses from initial_guesses/parameters/. Takes two input arguments: the detector name (e.g. S1_01, S2_01, etc.) and the directory where starting guesses are stored (e.g. 20-11-2022). Before the fitting procedure starts the initial modeled spectrum using the starting guesses are plotted and saved to initial_guesses/init.png. The user is asked if they want to change the starting guesses in the corresponding text file in initial_guesses/parameters/ before starting the fitting procedure. The output fitting parameters corresponding to the best fit (by minimzing $\\chi^2$) are stored in output/fit_parameters/\n",
    "\n"
   ]
  }
 ],
 "metadata": {
  "kernelspec": {
   "display_name": "Python 3 (ipykernel)",
   "language": "python",
   "name": "python3"
  },
  "language_info": {
   "codemirror_mode": {
    "name": "ipython",
    "version": 3
   },
   "file_extension": ".py",
   "mimetype": "text/x-python",
   "name": "python",
   "nbconvert_exporter": "python",
   "pygments_lexer": "ipython3",
   "version": "3.9.12"
  }
 },
 "nbformat": 4,
 "nbformat_minor": 5
}
